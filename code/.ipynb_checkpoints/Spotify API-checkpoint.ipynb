{
 "cells": [
  {
   "cell_type": "markdown",
   "metadata": {},
   "source": [
    "## Starting with the Spotify API"
   ]
  },
  {
   "cell_type": "code",
   "execution_count": 1,
   "metadata": {},
   "outputs": [],
   "source": [
    "import spotipy\n",
    "from spotipy.oauth2 import SpotifyClientCredentials\n",
    "import spotipy.util as util\n",
    "import json\n",
    "import numpy as np\n",
    "import pandas as pd\n",
    "\n",
    "import matplotlib.pyplot as plt\n",
    "import seaborn as sns\n",
    "%matplotlib inline"
   ]
  },
  {
   "cell_type": "code",
   "execution_count": 2,
   "metadata": {},
   "outputs": [],
   "source": [
    "username = 'britopereiraa'\n",
    "client_id ='17a3ed14ab434b33b28f19f8bea3337d'\n",
    "client_secret = '7f848f9d2a024b15be5fa776b4dc7a05'\n",
    "redirect_uri = 'http://localhost:7777/callback'\n",
    "scope = 'user-read-recently-played'\n",
    "\n",
    "token = util.prompt_for_user_token(username=username, \n",
    "                                   scope=scope, \n",
    "                                   client_id=client_id,   \n",
    "                                   client_secret=client_secret,     \n",
    "                                   redirect_uri=redirect_uri)"
   ]
  },
  {
   "cell_type": "code",
   "execution_count": 3,
   "metadata": {},
   "outputs": [
    {
     "name": "stdout",
     "output_type": "stream",
     "text": [
      "BQDtGkPF_1RwbWipvO9MJDtgj2yhC7jbVj3Y_VBsq10945JJJLpZb33YFpByONx-_WDXeh54BkDxeZzz5Fp4sU6b0Zma_fwPlM28f9E-Oc4Bu_gAoAPaZyco-oQbj32XkB69LKBwUPIEb8c4mqjeeQmeIDU\n"
     ]
    }
   ],
   "source": [
    "print(token)"
   ]
  },
  {
   "cell_type": "markdown",
   "metadata": {},
   "source": [
    "#### Playlists used:\n",
    "    \n",
    "Created a big playlist that puts together 3 of my main playlists:\n",
    "- 'Let the Chicken Chill'\n",
    "- 'Indie Lusofono'\n",
    "- 'Verdad'\n",
    "\n",
    "spotify:playlist:7jIYTDhFlZoybdvGm3e6oh\n",
    "\n",
    "- 'DISLIKED SONGS'\n",
    "spotify:playlist:5zVBvIZZ4qCWDv71UZ108k"
   ]
  },
  {
   "cell_type": "code",
   "execution_count": 4,
   "metadata": {},
   "outputs": [
    {
     "ename": "FileNotFoundError",
     "evalue": "[Errno 2] No such file or directory: 'authorization.json'",
     "output_type": "error",
     "traceback": [
      "\u001b[0;31m---------------------------------------------------------------------------\u001b[0m",
      "\u001b[0;31mFileNotFoundError\u001b[0m                         Traceback (most recent call last)",
      "\u001b[0;32m<ipython-input-4-0182a29c5bb3>\u001b[0m in \u001b[0;36m<module>\u001b[0;34m\u001b[0m\n\u001b[0;32m----> 1\u001b[0;31m \u001b[0mcredentials\u001b[0m \u001b[0;34m=\u001b[0m \u001b[0mjson\u001b[0m\u001b[0;34m.\u001b[0m\u001b[0mload\u001b[0m\u001b[0;34m(\u001b[0m\u001b[0mopen\u001b[0m\u001b[0;34m(\u001b[0m\u001b[0;34m'authorization.json'\u001b[0m\u001b[0;34m)\u001b[0m\u001b[0;34m)\u001b[0m\u001b[0;34m\u001b[0m\u001b[0;34m\u001b[0m\u001b[0m\n\u001b[0m\u001b[1;32m      2\u001b[0m \u001b[0mclient_id\u001b[0m \u001b[0;34m=\u001b[0m \u001b[0mcredentials\u001b[0m\u001b[0;34m[\u001b[0m\u001b[0;34m'client_id'\u001b[0m\u001b[0;34m]\u001b[0m\u001b[0;34m\u001b[0m\u001b[0;34m\u001b[0m\u001b[0m\n\u001b[1;32m      3\u001b[0m \u001b[0mclient_secret\u001b[0m \u001b[0;34m=\u001b[0m \u001b[0mcredentials\u001b[0m\u001b[0;34m[\u001b[0m\u001b[0;34m'client_secret'\u001b[0m\u001b[0;34m]\u001b[0m\u001b[0;34m\u001b[0m\u001b[0;34m\u001b[0m\u001b[0m\n",
      "\u001b[0;31mFileNotFoundError\u001b[0m: [Errno 2] No such file or directory: 'authorization.json'"
     ]
    }
   ],
   "source": [
    "credentials = json.load(open('authorization.json'))\n",
    "client_id = credentials['client_id']\n",
    "client_secret = credentials['client_secret']"
   ]
  },
  {
   "cell_type": "markdown",
   "metadata": {},
   "source": [
    "### Liked playlist"
   ]
  },
  {
   "cell_type": "code",
   "execution_count": null,
   "metadata": {},
   "outputs": [],
   "source": [
    "playlist_index = 0\n",
    "\n",
    "playlists = json.load(open('playlists_like_dislike.json'))\n",
    "playlist_uri = playlists[playlist_index]['uri']\n",
    "like = playlists[playlist_index]['like']\n"
   ]
  },
  {
   "cell_type": "code",
   "execution_count": null,
   "metadata": {},
   "outputs": [],
   "source": [
    "client_credentials_manager = SpotifyClientCredentials(client_id=client_id,client_secret=client_secret)\n",
    "\n",
    "sp = spotipy.Spotify(client_credentials_manager=client_credentials_manager)"
   ]
  },
  {
   "cell_type": "code",
   "execution_count": null,
   "metadata": {},
   "outputs": [],
   "source": [
    "playlist_uri"
   ]
  },
  {
   "cell_type": "code",
   "execution_count": null,
   "metadata": {},
   "outputs": [],
   "source": [
    "#Getting Information of tracks in Spotify playlist\n",
    "\n",
    "uri = playlist_uri    # the URI is split by ':' to get the username and playlist ID\n",
    "username = uri.split(':')[2]\n",
    "playlist_id = uri.split(':')[4]"
   ]
  },
  {
   "cell_type": "code",
   "execution_count": null,
   "metadata": {},
   "outputs": [],
   "source": [
    "results = sp.user_playlist_tracks(username, playlist_id,  offset = 0)"
   ]
  },
  {
   "cell_type": "code",
   "execution_count": null,
   "metadata": {},
   "outputs": [],
   "source": [
    "results = {'items':[]}\n",
    "\n",
    "for n in range(0,3000,100):\n",
    "    new = sp.user_playlist_tracks(username, playlist_id,  offset = n)\n",
    "    results['items'] += new['items']\n",
    "    \n",
    "    playlist_tracks_data = results\n",
    "    playlist_tracks_id = []\n",
    "    playlist_tracks_titles = []\n",
    "    playlist_tracks_artists = []\n",
    "    \n",
    "    for track in playlist_tracks_data['items']:\n",
    "        playlist_tracks_id.append(track['track']['id'])\n",
    "        playlist_tracks_titles.append(track['track']['name'])\n",
    "        \n",
    "    #adds a list of all artists involved in the song to the list of artists for the playlist\n",
    "        for artist in track['track']['artists']:\n",
    "            artist_list = []\n",
    "            artist_list.append(artist['name'])\n",
    "        playlist_tracks_artists.append(artist_list[0])\n",
    "        \n",
    "    \n",
    "print(len(playlist_tracks_id))\n",
    "\n",
    "liked_df = pd.DataFrame([])\n",
    "for i in range(0, len(playlist_tracks_id)):\n",
    "    features = sp.audio_features(playlist_tracks_id[i])\n",
    "    features_df = pd.DataFrame(features)\n",
    "    liked_df = liked_df.append(features_df)"
   ]
  },
  {
   "cell_type": "code",
   "execution_count": null,
   "metadata": {},
   "outputs": [],
   "source": [
    "#Merging Dataframes for getting audio features and track information\n",
    "\n",
    "liked_df['title'] = playlist_tracks_titles\n",
    "#features_df['first_artist'] = playlist_tracks_first_artists\n",
    "liked_df['main_artist'] = playlist_tracks_artists\n",
    "#features_df = features_df.set_index('id')\n",
    "liked_df = liked_df[['id', 'title', 'main_artist',\n",
    "                           'danceability', 'energy', 'key', 'loudness',\n",
    "                           'mode', 'acousticness', 'instrumentalness',\n",
    "                           'liveness', 'valence', 'tempo',\n",
    "                           'duration_ms', 'time_signature']]\n",
    "\n",
    "liked_df['Like'] = 1\n",
    "liked_df"
   ]
  },
  {
   "cell_type": "code",
   "execution_count": null,
   "metadata": {},
   "outputs": [],
   "source": []
  },
  {
   "cell_type": "markdown",
   "metadata": {},
   "source": [
    "### Disliked playlist"
   ]
  },
  {
   "cell_type": "code",
   "execution_count": null,
   "metadata": {},
   "outputs": [],
   "source": [
    "playlist_index = 1\n",
    "\n",
    "playlists = json.load(open('playlists_like_dislike.json'))\n",
    "playlist_uri = playlists[playlist_index]['uri']\n",
    "dislike = playlists[playlist_index]['like']\n",
    "\n",
    "#Getting Information of tracks in Spotify playlist\n",
    "\n",
    "uri = playlist_uri    # the URI is split by ':' to get the username and playlist ID\n",
    "username = uri.split(':')[2]\n",
    "playlist_id = uri.split(':')[4]\n",
    "\n",
    "results = sp.user_playlist_tracks(username, playlist_id,  offset = 0)"
   ]
  },
  {
   "cell_type": "code",
   "execution_count": null,
   "metadata": {},
   "outputs": [],
   "source": [
    "playlist_id"
   ]
  },
  {
   "cell_type": "code",
   "execution_count": null,
   "metadata": {},
   "outputs": [],
   "source": [
    "results = {'items':[]}\n",
    "\n",
    "for n in range(0,3000,100):\n",
    "    new = sp.user_playlist_tracks(username, playlist_id,  offset = n)\n",
    "    results['items'] += new['items']\n",
    "    \n",
    "    playlist_tracks_data = results\n",
    "    playlist_tracks_id = []\n",
    "    playlist_tracks_titles = []\n",
    "    playlist_tracks_artists = []\n",
    "    \n",
    "    for track in playlist_tracks_data['items']:\n",
    "        playlist_tracks_id.append(track['track']['id'])\n",
    "        playlist_tracks_titles.append(track['track']['name'])\n",
    "        \n",
    "    #adds a list of all artists involved in the song to the list of artists for the playlist\n",
    "        for artist in track['track']['artists']:\n",
    "            artist_list = []\n",
    "            artist_list.append(artist['name'])\n",
    "        playlist_tracks_artists.append(artist_list[0])\n",
    "        \n",
    "    \n",
    "print(len(playlist_tracks_id))\n",
    "\n",
    "disliked_df = pd.DataFrame([])\n",
    "for i in range(0, len(playlist_tracks_id)):\n",
    "    features = sp.audio_features(playlist_tracks_id[i])\n",
    "    features_df = pd.DataFrame(features)\n",
    "    disliked_df = disliked_df.append(features_df)"
   ]
  },
  {
   "cell_type": "code",
   "execution_count": null,
   "metadata": {},
   "outputs": [],
   "source": [
    "#Merging Dataframes for getting audio features and track information\n",
    "\n",
    "disliked_df['title'] = playlist_tracks_titles\n",
    "#features_df['first_artist'] = playlist_tracks_first_artists\n",
    "disliked_df['main_artist'] = playlist_tracks_artists\n",
    "#features_df = features_df.set_index('id')\n",
    "disliked_df = disliked_df[['id', 'title', 'main_artist',\n",
    "                           'danceability', 'energy', 'key', 'loudness',\n",
    "                           'mode', 'acousticness', 'instrumentalness',\n",
    "                           'liveness', 'valence', 'tempo',\n",
    "                           'duration_ms', 'time_signature']]\n",
    "disliked_df['Like'] = 0\n",
    "disliked_df"
   ]
  },
  {
   "cell_type": "markdown",
   "metadata": {},
   "source": [
    "### Final dataframe"
   ]
  },
  {
   "cell_type": "code",
   "execution_count": null,
   "metadata": {},
   "outputs": [],
   "source": [
    "frames = [liked_df, disliked_df]\n",
    "\n",
    "my_data = pd.concat(frames)"
   ]
  },
  {
   "cell_type": "code",
   "execution_count": null,
   "metadata": {},
   "outputs": [],
   "source": [
    "my_data"
   ]
  },
  {
   "cell_type": "code",
   "execution_count": null,
   "metadata": {},
   "outputs": [],
   "source": [
    "#export csv\n",
    "\n",
    "my_data.to_csv (r'my_data.csv', index = False, header=True)"
   ]
  },
  {
   "cell_type": "code",
   "execution_count": null,
   "metadata": {},
   "outputs": [],
   "source": [
    "#plt.figure(figsize=(20,30))\n",
    "#sns.countplot(features_df['main_artist'])\n",
    "#plt.xticks(rotation=90)"
   ]
  },
  {
   "cell_type": "code",
   "execution_count": null,
   "metadata": {},
   "outputs": [],
   "source": []
  }
 ],
 "metadata": {
  "kernelspec": {
   "display_name": "Python 3",
   "language": "python",
   "name": "python3"
  },
  "language_info": {
   "codemirror_mode": {
    "name": "ipython",
    "version": 3
   },
   "file_extension": ".py",
   "mimetype": "text/x-python",
   "name": "python",
   "nbconvert_exporter": "python",
   "pygments_lexer": "ipython3",
   "version": "3.7.4"
  }
 },
 "nbformat": 4,
 "nbformat_minor": 2
}
